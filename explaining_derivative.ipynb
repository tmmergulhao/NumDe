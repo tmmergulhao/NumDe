{
 "cells": [
  {
   "cell_type": "markdown",
   "id": "39a62822",
   "metadata": {},
   "source": [
    "# Importing Libraries"
   ]
  },
  {
   "cell_type": "code",
   "execution_count": null,
   "id": "93eba6d4",
   "metadata": {},
   "outputs": [],
   "source": [
    "import numpy as np\n",
    "import matplotlib.pyplot as plt\n",
    "import stencil_calculator as sc\n",
    "import numerical_derivative as nd\n",
    "%matplotlib inline"
   ]
  },
  {
   "cell_type": "markdown",
   "id": "a6b0ad84",
   "metadata": {},
   "source": [
    "Here, I will show some examples on how you can use the findiff package to take numerical derivatives of functions."
   ]
  },
  {
   "cell_type": "markdown",
   "id": "3a0bce81",
   "metadata": {},
   "source": [
    "# 1st example - Toy model"
   ]
  },
  {
   "cell_type": "markdown",
   "id": "d886b192",
   "metadata": {},
   "source": [
    "For the first example, let's take derivatives of the following function:\n",
    "\n",
    "$$\n",
    "f(x,a,b)=\\sin(x\\,a)\\cos(x\\,b)\\;,\n",
    "$$\n",
    "\n",
    "with respect to $a$ and $b$."
   ]
  },
  {
   "cell_type": "code",
   "execution_count": null,
   "id": "d2da0278",
   "metadata": {},
   "outputs": [],
   "source": [
    "x_array = np.arange(-10,10,0.01)\n",
    "def function_test(theta,kwargs):\n",
    "    return np.sin(kwargs[\"x_array\"]*theta[0]) * np.cos(kwargs[\"x_array\"]*theta[1])"
   ]
  },
  {
   "cell_type": "markdown",
   "id": "41a83452",
   "metadata": {},
   "source": [
    "We can inizialize the FiniteDerivative method in the following way:"
   ]
  },
  {
   "cell_type": "code",
   "execution_count": null,
   "id": "5ceb95d0",
   "metadata": {},
   "outputs": [],
   "source": [
    "ND_obj = nd.FiniteDerivative()"
   ]
  },
  {
   "cell_type": "code",
   "execution_count": null,
   "id": "20f897e2",
   "metadata": {},
   "outputs": [],
   "source": [
    "N_taylor = 4 #The code will compute derivatives up to this order\n",
    "N_grid = 6 #The size of the stencil will be 2*N_grid + 1\n",
    "\n",
    "#These are the specifications for the grid. The first value is the reference one, and the second is the step\n",
    "#size in units of the reference values. \n",
    "\n",
    "# Example: If \"x\":[x0, x_percentage], the grid spacing will be x0*x_percentage\n",
    "\n",
    "expansion_table = {\n",
    "    \"a\":[-1, 0.1],\n",
    "    \"b\":[1, 0.1]\n",
    "}\n",
    "\n",
    "ND_obj.define_setup(N_taylor,N_grid, expansion_table)"
   ]
  },
  {
   "cell_type": "markdown",
   "id": "0c6f76cc",
   "metadata": {},
   "source": [
    "Now, we compute the function in the total grid defined above"
   ]
  },
  {
   "cell_type": "code",
   "execution_count": null,
   "id": "d04e5697",
   "metadata": {},
   "outputs": [],
   "source": [
    "ND_obj.evaluate_in_grid(function_test,x_array=x_array)"
   ]
  },
  {
   "cell_type": "markdown",
   "id": "97f03fcb",
   "metadata": {},
   "source": [
    "Now, to take the derivatives:"
   ]
  },
  {
   "cell_type": "code",
   "execution_count": null,
   "id": "3c4457a8",
   "metadata": {
    "scrolled": true
   },
   "outputs": [],
   "source": [
    "ND_obj.take_derivative_ALL(verbose=False)"
   ]
  },
  {
   "cell_type": "markdown",
   "id": "38aea4c6",
   "metadata": {},
   "source": [
    "And thats it! Lets plot the results:"
   ]
  },
  {
   "cell_type": "code",
   "execution_count": null,
   "id": "fff308ec",
   "metadata": {
    "scrolled": false
   },
   "outputs": [],
   "source": [
    "for this_derivative in list(ND_obj.derivatives.keys()):\n",
    "    plt.figure(figsize = (8,8), constrained_layout = True)\n",
    "    plt.title(this_derivative)\n",
    "    for this_stencil in list(ND_obj.derivatives[this_derivative]):\n",
    "        try:\n",
    "            plt.plot(x_array, ND_obj.derivatives[this_derivative][this_stencil], label = this_stencil)\n",
    "        except:\n",
    "            pass\n",
    "    plt.legend()\n",
    "    plt.show()"
   ]
  },
  {
   "cell_type": "markdown",
   "id": "bcd98dfe",
   "metadata": {},
   "source": [
    "The code will use all stencil sizes to compute all derivatives. The stencil size usually controls the precision of the derivative: a larger stencil size will lead to a more accurate derivative. The output is a dictionary with all the derivatives:"
   ]
  },
  {
   "cell_type": "code",
   "execution_count": null,
   "id": "a066d431",
   "metadata": {},
   "outputs": [],
   "source": [
    "list(ND_obj.derivatives.keys())"
   ]
  },
  {
   "cell_type": "markdown",
   "id": "0dfff943",
   "metadata": {},
   "source": [
    "Each of of these entries leads to another dictionary"
   ]
  },
  {
   "cell_type": "code",
   "execution_count": null,
   "id": "39224793",
   "metadata": {},
   "outputs": [],
   "source": [
    "list(ND_obj.derivatives['d1a'].keys())"
   ]
  },
  {
   "cell_type": "markdown",
   "id": "583bf726",
   "metadata": {},
   "source": [
    "Those inner dictionaries represent the precision (or stencil size) used to compute the derivative associated with the first key."
   ]
  },
  {
   "cell_type": "markdown",
   "id": "9aa51480",
   "metadata": {},
   "source": [
    "# 2nd example - Cosmology: linear matter power spectrum"
   ]
  },
  {
   "cell_type": "markdown",
   "id": "7e8ceedf",
   "metadata": {},
   "source": [
    "I will use the example in the CLASS-PT website to get the linear matter power-spectrum, which is obtained by solving some complicated equations numerically."
   ]
  },
  {
   "cell_type": "code",
   "execution_count": null,
   "id": "39a3bd2f",
   "metadata": {},
   "outputs": [],
   "source": [
    "from classy import Class"
   ]
  },
  {
   "cell_type": "code",
   "execution_count": null,
   "id": "b653f0b7",
   "metadata": {},
   "outputs": [],
   "source": [
    "cosmological_parameters = {\"A_s\": 2.6085e-09,\n",
    "                            \"n_s\": 0.9611,\n",
    "                            \"tau_reio\": 0.0952,\n",
    "                            \"omega_b\": 0.02216104779708,\n",
    "                            \"omega_cdm\": 0.11888851928939997,\n",
    "                            \"h\": 0.6777,\n",
    "                            \"YHe\": 0.2425,\n",
    "                            \"N_ur\": 2.0328,\n",
    "                            \"N_ncdm\": 1,\n",
    "                            \"m_ncdm\": 0.06,\n",
    "                            \"z_pk\": 0.02,\n",
    "                            \"output\": \"mPk\",\n",
    "                            \"non linear\": \"PT\",\n",
    "                            \"IR resummation\": \"Yes\",\n",
    "                            \"Bias tracers\": \"Yes\",\n",
    "                            \"cb\": \"No\",\n",
    "                            \"RSD\": \"Yes\",\n",
    "                            \"AP\": \"No\"}\n",
    "\n",
    "\n",
    "M = Class()\n",
    "M.set(cosmological_parameters)\n",
    "#let's first take a look at the one-loop power spectrum for matter without IR resummation\n",
    "M.compute()\n",
    "\n",
    "h = M.h()\n",
    "kvec = np.logspace(-2,np.log10(3),1000) # array of kvec in h/Mpc\n",
    "khvec = kvec*h # array of kvec in 1/Mpc\n",
    "\n",
    "M.initialize_output(khvec, 0.02, len(khvec))\n",
    "operators = M.get_pk_mult(khvec, 0.02, len(khvec))*h**3"
   ]
  },
  {
   "cell_type": "code",
   "execution_count": null,
   "id": "c825cabf",
   "metadata": {},
   "outputs": [],
   "source": [
    "plt.figure(figsize = (8,6), constrained_layout= True)\n",
    "plt.plot(khvec, khvec*operators[14])\n",
    "plt.xlim((0.001,0.2))\n",
    "plt.xlabel(r\"$k$ [h/Mpc]\", size = 20)\n",
    "plt.ylabel(r\"$k\\times P(k)$ [Mpc/$h$]$^2$\", size = 20)"
   ]
  },
  {
   "cell_type": "markdown",
   "id": "5eb7375b",
   "metadata": {},
   "source": [
    "Now, let's see how we can compute the derivative of the linear matter power spectrum with respect to $\\omega_{\\rm cdm}$"
   ]
  },
  {
   "cell_type": "code",
   "execution_count": null,
   "id": "8569523d",
   "metadata": {
    "code_folding": []
   },
   "outputs": [],
   "source": [
    "#We first define a function that updates omega_cdm and return the new P(k)\n",
    "\n",
    "def ComputePk_h(x):\n",
    "    cosmological_parameters[\"omega_cdm\"] = x[0]\n",
    "    M = Class()\n",
    "    M.set(cosmological_parameters)\n",
    "    #let's first take a look at the one-loop power spectrum for matter without IR resummation\n",
    "    M.compute()\n",
    "    M.initialize_output(khvec, 0.02, len(khvec))\n",
    "    operators = M.get_pk_mult(khvec, 0.02, len(khvec))*h**3\n",
    "    return operators[14]"
   ]
  },
  {
   "cell_type": "code",
   "execution_count": null,
   "id": "2db88d1e",
   "metadata": {},
   "outputs": [],
   "source": [
    "ND_obj = nd.FiniteDerivative()\n",
    "\n",
    "N_taylor = 3 #The code will compute derivatives up to this order\n",
    "N_grid = 4 #The size of the stencil will be 2*N_grid + 1\n",
    "\n",
    "expansion_table = {\n",
    "    \"omega_cdm\":[0.1190, 0.1]\n",
    "}\n",
    "\n",
    "ND_obj.define_setup(N_taylor,N_grid, expansion_table)"
   ]
  },
  {
   "cell_type": "code",
   "execution_count": null,
   "id": "a968b718",
   "metadata": {},
   "outputs": [],
   "source": [
    "ND_obj.evaluate_in_grid(ComputePk_h)"
   ]
  },
  {
   "cell_type": "code",
   "execution_count": null,
   "id": "c19d2379",
   "metadata": {},
   "outputs": [],
   "source": [
    "ND_obj.take_derivative_ALL()"
   ]
  },
  {
   "cell_type": "code",
   "execution_count": null,
   "id": "da362cd5",
   "metadata": {},
   "outputs": [],
   "source": [
    "for this_derivative in list(ND_obj.derivatives.keys()):\n",
    "    plt.figure(figsize = (8,8), constrained_layout = True)\n",
    "    plt.title(this_derivative)\n",
    "    for this_stencil in list(ND_obj.derivatives[this_derivative]):\n",
    "        try:\n",
    "            plt.plot(khvec, khvec*ND_obj.derivatives[this_derivative][this_stencil], label = this_stencil)\n",
    "            plt.xlim((0.005,0.2))\n",
    "        except:\n",
    "            pass\n",
    "    plt.legend()\n",
    "    plt.show()"
   ]
  }
 ],
 "metadata": {
  "kernelspec": {
   "display_name": "Python 3",
   "language": "python",
   "name": "python3"
  },
  "language_info": {
   "codemirror_mode": {
    "name": "ipython",
    "version": 3
   },
   "file_extension": ".py",
   "mimetype": "text/x-python",
   "name": "python",
   "nbconvert_exporter": "python",
   "pygments_lexer": "ipython3",
   "version": "3.8.8"
  }
 },
 "nbformat": 4,
 "nbformat_minor": 5
}
