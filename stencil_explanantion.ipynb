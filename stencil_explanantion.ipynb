{
 "cells": [
  {
   "cell_type": "code",
   "execution_count": 1,
   "id": "f30496b5",
   "metadata": {},
   "outputs": [],
   "source": [
    "import numpy as np\n",
    "import matplotlib.pyplot as plt\n",
    "import stencil_calculator as sc\n",
    "import numerical_derivative as nd"
   ]
  },
  {
   "cell_type": "code",
   "execution_count": 4,
   "id": "d493b3e1",
   "metadata": {},
   "outputs": [],
   "source": [
    "stencil = np.array([-2,-1,0,1,2])\n",
    "stencil_object = sc.finite_difference_coefficients(stencil)"
   ]
  },
  {
   "cell_type": "code",
   "execution_count": 5,
   "id": "1efeb906",
   "metadata": {},
   "outputs": [
    {
     "data": {
      "text/plain": [
       "array([[ 1.,  1.,  1.,  1.,  1.],\n",
       "       [-2., -1.,  0.,  1.,  2.],\n",
       "       [ 4.,  1.,  0.,  1.,  4.],\n",
       "       [-8., -1.,  0.,  1.,  8.],\n",
       "       [16.,  1.,  0.,  1., 16.]])"
      ]
     },
     "execution_count": 5,
     "metadata": {},
     "output_type": "execute_result"
    }
   ],
   "source": [
    "stencil_object.matrix_stencil"
   ]
  },
  {
   "cell_type": "code",
   "execution_count": 6,
   "id": "fd7d5aad",
   "metadata": {},
   "outputs": [],
   "source": [
    "nparams = 3 # 3params\n",
    "derivative_list = [0,0,1] #d^3d/(dx0dx0dx1)"
   ]
  },
  {
   "cell_type": "code",
   "execution_count": 7,
   "id": "62bb33fd",
   "metadata": {},
   "outputs": [],
   "source": [
    "answer = stencil_object.get_derivative_coef(derivative_list, nparams)"
   ]
  },
  {
   "cell_type": "code",
   "execution_count": 8,
   "id": "d71d6448",
   "metadata": {},
   "outputs": [
    {
     "data": {
      "text/plain": [
       "[['[-2, -2, 0]', -0.0069444444444444415],\n",
       " ['[-2, -1, 0]', 0.05555555555555553],\n",
       " ['[-2, 0, 0]', -0.0],\n",
       " ['[-2, 1, 0]', -0.05555555555555553],\n",
       " ['[-2, 2, 0]', 0.0069444444444444415],\n",
       " ['[-1, -2, 0]', 0.11111111111111106],\n",
       " ['[-1, -1, 0]', -0.8888888888888885],\n",
       " ['[-1, 0, 0]', 0.0],\n",
       " ['[-1, 1, 0]', 0.8888888888888885],\n",
       " ['[-1, 2, 0]', -0.11111111111111106],\n",
       " ['[0, -2, 0]', -0.2083333333333333],\n",
       " ['[0, -1, 0]', 1.6666666666666663],\n",
       " ['[0, 0, 0]', -0.0],\n",
       " ['[0, 1, 0]', -1.6666666666666663],\n",
       " ['[0, 2, 0]', 0.2083333333333333],\n",
       " ['[1, -2, 0]', 0.1111111111111111],\n",
       " ['[1, -1, 0]', -0.8888888888888888],\n",
       " ['[1, 0, 0]', 0.0],\n",
       " ['[1, 1, 0]', 0.8888888888888888],\n",
       " ['[1, 2, 0]', -0.1111111111111111],\n",
       " ['[2, -2, 0]', -0.006944444444444444],\n",
       " ['[2, -1, 0]', 0.05555555555555555],\n",
       " ['[2, 0, 0]', -0.0],\n",
       " ['[2, 1, 0]', -0.05555555555555555],\n",
       " ['[2, 2, 0]', 0.006944444444444444]]"
      ]
     },
     "execution_count": 8,
     "metadata": {},
     "output_type": "execute_result"
    }
   ],
   "source": [
    "answer"
   ]
  },
  {
   "cell_type": "markdown",
   "id": "9e088b11",
   "metadata": {},
   "source": [
    "The meaning of this output is that in order to compute $\\partial^3/\\partial x_0^2\\partial x_1$ of some function, you need to first compute the function in some $3 \\times 3$ (which is fixed in terms of the stencil size), and after you need to sum all the relevant terms of the grid, as prescried above, multiplied by their respective coefficient. After, you have to divide the functio by the associated step size. In this case, assuming the steps $\\epsilon_0$, $\\epsilon_1$ and $\\epsilon_2$ for three variables, respetivelly, you would have to divide this summation by $\\epsilon_0^2\\epsilon_1$.\n",
    "\n",
    "To be more clear, let us consider the $1D$ case with only one parameter, with the simplest stencil and only take the first derivative:"
   ]
  },
  {
   "cell_type": "code",
   "execution_count": 16,
   "id": "20ed9691",
   "metadata": {},
   "outputs": [],
   "source": [
    "nparams = 1\n",
    "derivative = [0]\n",
    "new_stencil = np.array([-1,0,1])\n",
    "new_stencil_obj = sc.finite_difference_coefficients(new_stencil)\n",
    "new_answer = new_stencil_obj.get_derivative_coef(derivative, nparams)"
   ]
  },
  {
   "cell_type": "code",
   "execution_count": 17,
   "id": "9804e901",
   "metadata": {},
   "outputs": [
    {
     "data": {
      "text/plain": [
       "[['[-1]', -0.5], ['[0]', 0.0], ['[1]', 0.5]]"
      ]
     },
     "execution_count": 17,
     "metadata": {},
     "output_type": "execute_result"
    }
   ],
   "source": [
    "new_answer"
   ]
  },
  {
   "cell_type": "markdown",
   "id": "973b6e7f",
   "metadata": {},
   "source": [
    "Thus, to compute the first order derivative of a function $f(x)$, to be computed at $x = x_0$, you have to first define a step size $\\epsilon$ and compute the function at $f(x_0 - \\epsilon)$, $f(x_0)$ and $f(x_0 + \\epsilon)$. These values corresponde to the grid points $[-1]$, $[0]$, and $[1]$ above. After, you just have to take the linear combination using the coefficients above:"
   ]
  },
  {
   "cell_type": "markdown",
   "id": "ded222bd",
   "metadata": {},
   "source": [
    "$$\n",
    "\\frac{d f}{dx}|_{x = x_0} = \\frac{𝑓(x_0 - \\epsilon)0.5 + 0f(x_0) + 0.5f(x_0 + \\epsilon)}{\\epsilon}\n",
    "$$"
   ]
  }
 ],
 "metadata": {
  "kernelspec": {
   "display_name": "Python 3",
   "language": "python",
   "name": "python3"
  },
  "language_info": {
   "codemirror_mode": {
    "name": "ipython",
    "version": 3
   },
   "file_extension": ".py",
   "mimetype": "text/x-python",
   "name": "python",
   "nbconvert_exporter": "python",
   "pygments_lexer": "ipython3",
   "version": "3.8.8"
  }
 },
 "nbformat": 4,
 "nbformat_minor": 5
}
